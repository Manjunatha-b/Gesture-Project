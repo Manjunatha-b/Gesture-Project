{
 "cells": [
  {
   "cell_type": "code",
   "execution_count": 9,
   "metadata": {},
   "outputs": [],
   "source": [
    "import tensorflow as tf\n",
    "from tensorflow.keras.models import Sequential\n",
    "from tensorflow.keras.layers import Dense , Dropout , Activation , Flatten , Conv2D , MaxPooling2D\n",
    "from tensorflow.keras.callbacks import TensorBoard\n",
    "import pickle                                                          \n",
    "import time   "
   ]
  },
  {
   "cell_type": "code",
   "execution_count": 10,
   "metadata": {},
   "outputs": [],
   "source": [
    "X = pickle.load(open(\"X.pickle\",\"rb\"))                                   #used to load previously saved data\n",
    "y = pickle.load(open(\"y.pickle\",\"rb\"))\n",
    "\n",
    "X = X/255           \n",
    "\n"
   ]
  },
  {
   "cell_type": "code",
   "execution_count": 11,
   "metadata": {},
   "outputs": [],
   "source": [
    "node_sizes =[128]\n",
    "cnn_layers=[5]"
   ]
  },
  {
   "cell_type": "code",
   "execution_count": 12,
   "metadata": {},
   "outputs": [
    {
     "name": "stdout",
     "output_type": "stream",
     "text": [
      "Train on 1598 samples, validate on 400 samples\n",
      "Epoch 1/5\n",
      "1598/1598 [==============================] - 266s 166ms/sample - loss: 0.6221 - acc: 0.6571 - val_loss: 0.3364 - val_acc: 0.8700\n",
      "Epoch 2/5\n",
      "1598/1598 [==============================] - 168s 105ms/sample - loss: 0.1439 - acc: 0.9518 - val_loss: 0.2018 - val_acc: 0.9300\n",
      "Epoch 3/5\n",
      "1598/1598 [==============================] - 169s 106ms/sample - loss: 0.0451 - acc: 0.9856 - val_loss: 0.0282 - val_acc: 0.9900\n",
      "Epoch 4/5\n",
      "1598/1598 [==============================] - 166s 104ms/sample - loss: 0.0066 - acc: 0.9981 - val_loss: 0.0301 - val_acc: 0.9925\n",
      "Epoch 5/5\n",
      "1598/1598 [==============================] - 166s 104ms/sample - loss: 0.0033 - acc: 0.9994 - val_loss: 0.0304 - val_acc: 0.9925\n",
      "Train on 1598 samples, validate on 400 samples\n",
      "Epoch 1/5\n",
      "1598/1598 [==============================] - 193s 121ms/sample - loss: 0.6317 - acc: 0.6133 - val_loss: 0.3909 - val_acc: 0.8450\n",
      "Epoch 2/5\n",
      "1598/1598 [==============================] - 174s 109ms/sample - loss: 0.2436 - acc: 0.8986 - val_loss: 0.0974 - val_acc: 0.9700\n",
      "Epoch 3/5\n",
      "1598/1598 [==============================] - 181s 113ms/sample - loss: 0.0462 - acc: 0.9831 - val_loss: 0.0081 - val_acc: 0.9950\n",
      "Epoch 4/5\n",
      "1598/1598 [==============================] - 175s 109ms/sample - loss: 0.0114 - acc: 0.9956 - val_loss: 6.9409e-04 - val_acc: 1.0000\n",
      "Epoch 5/5\n",
      "1598/1598 [==============================] - 178s 111ms/sample - loss: 0.0023 - acc: 0.9994 - val_loss: 9.3979e-04 - val_acc: 1.0000\n"
     ]
    }
   ],
   "source": [
    "for node_size in node_sizes:\n",
    "    for cnn_layer in cnn_layers:\n",
    "        NAME = '{}-CNN layers  {}-Nodes'.format(cnn_layer,node_size)\n",
    "        tensorboard = TensorBoard(log_dir='logs/{}'.format(NAME))\n",
    "\n",
    "        model = Sequential()                                                 \n",
    "        model.add(Conv2D(64, (3,3) , input_shape = X.shape[1:]))               \n",
    "        model.add(Activation(\"relu\"))                                        \n",
    "        model.add(MaxPooling2D(pool_size=(2,2)))\n",
    "        model.add(Dropout(0.35))\n",
    "\n",
    "        for i in range(cnn_layer-1):\n",
    "            model.add(Conv2D(node_size, (3,3)))                                         \n",
    "            model.add(Activation(\"relu\"))\n",
    "            model.add(MaxPooling2D(pool_size=(2,2)))\n",
    "            model.add(Dropout(0.3))\n",
    "\n",
    "        model.add(Flatten())                                                                   \n",
    "        model.add(Dense(1))                                                    \n",
    "        model.add(Activation(\"sigmoid\"))\n",
    "\n",
    "        model.compile(loss=\"binary_crossentropy\",optimizer=\"adam\",metrics=[\"accuracy\"])\n",
    "\n",
    "        model.fit(X , y ,batch_size=32 ,epochs=5, validation_split =0.2,callbacks=[tensorboard])\n"
   ]
  },
  {
   "cell_type": "code",
   "execution_count": 13,
   "metadata": {},
   "outputs": [],
   "source": [
    "model.save('GestureModel')"
   ]
  },
  {
   "cell_type": "code",
   "execution_count": null,
   "metadata": {},
   "outputs": [],
   "source": []
  }
 ],
 "metadata": {
  "kernelspec": {
   "display_name": "Python 3",
   "language": "python",
   "name": "python3"
  },
  "language_info": {
   "codemirror_mode": {
    "name": "ipython",
    "version": 3
   },
   "file_extension": ".py",
   "mimetype": "text/x-python",
   "name": "python",
   "nbconvert_exporter": "python",
   "pygments_lexer": "ipython3",
   "version": "3.7.3"
  }
 },
 "nbformat": 4,
 "nbformat_minor": 2
}
