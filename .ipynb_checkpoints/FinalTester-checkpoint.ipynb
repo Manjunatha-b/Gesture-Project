{
 "cells": [
  {
   "cell_type": "code",
   "execution_count": 1,
   "metadata": {},
   "outputs": [],
   "source": [
    "import cv2\n",
    "import numpy as np\n",
    "import time\n",
    "import tensorflow as tf\n",
    "import os"
   ]
  },
  {
   "cell_type": "code",
   "execution_count": 2,
   "metadata": {},
   "outputs": [],
   "source": [
    "cap = cv2.VideoCapture(0)\n",
    "count=0\n",
    "lower = np.array([0, 40, 50], dtype = \"uint8\")\n",
    "upper = np.array([255, 255, 255], dtype = \"uint8\")\n",
    "\n",
    "from IPython.display import clear_output"
   ]
  },
  {
   "cell_type": "code",
   "execution_count": 3,
   "metadata": {},
   "outputs": [],
   "source": [
    "#from Tkinter import *\n",
    "\n",
    "#master = Tk()\n",
    "#w = Scale(master, from_=0, to=42)\n",
    "#w.pack()\n",
    "#w = Scale(master, from_=0, to=200, orient=HORIZONTAL)\n",
    "#w.pack()\n",
    "\n",
    "#mainloop()"
   ]
  },
  {
   "cell_type": "code",
   "execution_count": 4,
   "metadata": {},
   "outputs": [
    {
     "name": "stdout",
     "output_type": "stream",
     "text": [
      "WARNING:tensorflow:From C:\\ProgramData\\Miniconda3\\lib\\site-packages\\tensorflow\\python\\ops\\resource_variable_ops.py:435: colocate_with (from tensorflow.python.framework.ops) is deprecated and will be removed in a future version.\n",
      "Instructions for updating:\n",
      "Colocations handled automatically by placer.\n",
      "WARNING:tensorflow:From C:\\ProgramData\\Miniconda3\\lib\\site-packages\\tensorflow\\python\\keras\\layers\\core.py:143: calling dropout (from tensorflow.python.ops.nn_ops) with keep_prob is deprecated and will be removed in a future version.\n",
      "Instructions for updating:\n",
      "Please use `rate` instead of `keep_prob`. Rate should be set to `rate = 1 - keep_prob`.\n",
      "WARNING:tensorflow:From C:\\ProgramData\\Miniconda3\\lib\\site-packages\\tensorflow\\python\\ops\\math_ops.py:3066: to_int32 (from tensorflow.python.ops.math_ops) is deprecated and will be removed in a future version.\n",
      "Instructions for updating:\n",
      "Use tf.cast instead.\n"
     ]
    }
   ],
   "source": [
    "model = tf.keras.models.load_model('GestureModel')"
   ]
  },
  {
   "cell_type": "code",
   "execution_count": 5,
   "metadata": {},
   "outputs": [
    {
     "name": "stdout",
     "output_type": "stream",
     "text": [
      "one\n"
     ]
    }
   ],
   "source": [
    "while(True):    \n",
    "    ret,frame = cap.read()\n",
    "    count=count+1\n",
    "    name=\"gesturepics\\{}.bmp\".format(count)\n",
    "    converted = cv2.cvtColor(frame, cv2.COLOR_BGR2HSV)\n",
    "    \n",
    "    skinMask = cv2.inRange(converted, lower, upper)\n",
    "    frame = cv2.GaussianBlur(frame,(11,11),0)\n",
    "    skin = cv2.bitwise_and(frame, frame, mask = skinMask)\n",
    "       \n",
    "    roi = skin[150:350, 100:250]\n",
    "    roi= cv2.GaussianBlur(roi, (5, 5), 0)\n",
    "    \n",
    "    lul,lal,roi = cv2.split(roi)\n",
    "    ret3,th3 = cv2.threshold(roi,0,255,cv2.THRESH_BINARY+cv2.THRESH_OTSU)\n",
    "   \n",
    "    cv2.imshow('frame', th3)    \n",
    "    clear_output(wait=True)\n",
    "    \n",
    "    th3= np.array(th3).reshape(-1,150,200,1)\n",
    "    th3=th3/255\n",
    "    prediction=model.predict([th3])\n",
    "    if(prediction>0.5):\n",
    "        print(\"sign\")\n",
    "    else:\n",
    "        print(\"one\")\n",
    "    \n",
    "    if cv2.waitKey(1) & 0xFF == ord('q'):\n",
    "        break\n",
    "    \n",
    "cap.release()\n",
    "cv2.destroyAllWindows()\n",
    "\n"
   ]
  },
  {
   "cell_type": "code",
   "execution_count": null,
   "metadata": {},
   "outputs": [],
   "source": []
  }
 ],
 "metadata": {
  "kernelspec": {
   "display_name": "Python 3",
   "language": "python",
   "name": "python3"
  },
  "language_info": {
   "codemirror_mode": {
    "name": "ipython",
    "version": 3
   },
   "file_extension": ".py",
   "mimetype": "text/x-python",
   "name": "python",
   "nbconvert_exporter": "python",
   "pygments_lexer": "ipython3",
   "version": "3.7.3"
  }
 },
 "nbformat": 4,
 "nbformat_minor": 2
}
